{
 "cells": [
  {
   "cell_type": "markdown",
   "metadata": {},
   "source": [
    "Lab 5\n",
    "---\n",
    "Hello All,\n",
    "\n",
    "Welcome to the DSCI 510's lab.\n",
    "\n",
    "Guidelines for the Lab:\n",
    "- You will be given the lab assignment in the start of the lab. You're supposed to complete it by the deadline stated, i.e., Thursday 11:59 PM PDT. \n",
    "\n",
    "- You've to complete the assignments individually. If you are having trouble completing the assignment do let me know, I will clear your doubts and guide you but I'll not write code for you and no one else should :) !!!  \n",
    "\n",
    "- You have to fill in the code in this notebook and upload it to back to blackboard for submission. While doing this, make sure that all supporting files that you download from blackboard are in the same directory as this notebook.  \n",
    "\n",
    "- You are encouraged to look up resources online like python docs and stackoverflow. But, you are encouraged to look up the topics and not the questions themselves  \n",
    "\n",
    "- Your last submission will be counted towards your grade  "
   ]
  },
  {
   "cell_type": "markdown",
   "metadata": {},
   "source": [
    "Q1.[10 Points]\n",
    "---\n",
    "You are given a file named Airports.txt. Data in each line is seperated by a tab(which is represented by '\\t' in python).  \n",
    "\n",
    "Each line of the file is in the format:\n",
    "\n",
    "```(type of airport, Name of the airport, Elevation from sealevel, Long and lat with \"\" seperated by comma). ```\n",
    "\n",
    "Example:\n",
    "```heliport\tTotal Rf Heliport\t11\t\"-74.93360137939453, 40.07080078125\"```\n",
    "\n",
    "Note: To read this file, you will need utf8 encoding hence, run \"file = open('Airports.txt', encoding='utf8')\" command for getting file handle.  \n",
    "\n",
    "For this question, open the file and return a dictionary with key as \"Name of the airport\" and value as a tuple of long and lat coordinates in format **(long, lat)**.  \n",
    "\n",
    "Input: none  \n",
    "Output: dictionary\n",
    "\n",
    "---\n",
    "Grading Rubric: 5 points if the sample input/output are correct. 10 if all correct."
   ]
  },
  {
   "cell_type": "code",
   "execution_count": 61,
   "metadata": {},
   "outputs": [],
   "source": [
    "# Fill this function for your solution\n",
    "\n",
    "def get_airport_info():\n",
    "    file = open ('Airports.txt', encoding='utf8')\n",
    "    d = dict()\n",
    "    for i in file:       \n",
    "        words = i.split('\\t')      #removing tab extra spaces to have accurate separation\n",
    "        values = words[3].split(', ') # removing , from the  Long and lat column \n",
    "        d[words[1]] = (float(values[0][1:]), float (values[1][0:-2]))       #d[words[1]] = words[3]\n",
    "    file.close()\n",
    "    return d\n",
    "    \n",
    "\n",
    "  \n",
    "        "
   ]
  },
  {
   "cell_type": "code",
   "execution_count": 62,
   "metadata": {},
   "outputs": [
    {
     "name": "stdout",
     "output_type": "stream",
     "text": [
      "Len of t\"he dict returned : 52852\n",
      "First Element : ('Total Rf Heliport', (-74.93360137939453, 40.07080078125))\n"
     ]
    }
   ],
   "source": [
    "# Do not change this cell \n",
    "print('Len of t\"he dict returned :', len(get_airport_info().items()))\n",
    "print('First Element :', list(get_airport_info().items())[0])"
   ]
  },
  {
   "cell_type": "markdown",
   "metadata": {},
   "source": [
    "Q2.[10 points] \n",
    "---\n",
    "For this question, you are given two arguments latitude and longitude. You are supposed to return the minimum distance airport from this location. Return the airport name for this question.  \n",
    "\n",
    "You are given a function named distance which takes parameters tuple - (long1, lat1), tuple - (long2, lat2) and returns distance in kms between both (long, lat) tuples.\n",
    "\n",
    "Use the function from Q1 to get the dictionary and utilize it for this question. If you are unable to complete Q1, you can assume that it works in Q2. We'll not use your function from Q1 while grading.  \n",
    "\n",
    "Input: float, float  \n",
    "Output: str\n",
    "\n",
    "---\n",
    "Grading Rubric: 5 points if the sample input/output are correct. 10 if all correct."
   ]
  },
  {
   "cell_type": "code",
   "execution_count": 63,
   "metadata": {},
   "outputs": [],
   "source": [
    "# Use this cell for your solution\n",
    "from math import sin, cos, sqrt, atan2, radians\n",
    "def dist(point1, point2):\n",
    "    # approximate radius of earth in km\n",
    "    R = 6373.0\n",
    "    lat1 = radians(point1[1])\n",
    "    lon1 = radians(point1[0])\n",
    "    lat2 = radians(point2[1])\n",
    "    lon2 = radians(point2[0])\n",
    "    dlon = lon2 - lon1\n",
    "    dlat = lat2 - lat1\n",
    "    a = sin(dlat / 2)**2 + cos(lat1) * cos(lat2) * sin(dlon / 2)**2\n",
    "    c = 2 * atan2(sqrt(a), sqrt(1 - a))\n",
    "    distance = R * c\n",
    "    return distance"
   ]
  },
  {
   "cell_type": "code",
   "execution_count": 68,
   "metadata": {},
   "outputs": [],
   "source": [
    "\n",
    "def get_nearest_airport(long, lat):\n",
    "    x = get_airport_info()\n",
    "    short_distance = list()\n",
    "    var = 2000    # it could be any number that is greater than the smallest point\n",
    "    for i in x.keys():\n",
    "        value = x.get(i, 0)\n",
    "        \n",
    "        short_distance= (dist((long,lat), value)) #send the values of the dictionary as long with the current location \n",
    "        \n",
    "        if short_distance <var:  # comparing distance with the random variable value to store the smallest distance\n",
    "            var = short_distance\n",
    "            air_name = i  # associate the name of key of the dictionary with (airport key)\n",
    "            \n",
    "        \n",
    "  \n",
    "   \n",
    "    \n",
    "    return  air_name\n"
   ]
  },
  {
   "cell_type": "code",
   "execution_count": 69,
   "metadata": {},
   "outputs": [
    {
     "name": "stdout",
     "output_type": "stream",
     "text": [
      "Nearest airport from USC is\n",
      " Your output:  Maguire-California Hospital Helipad\n"
     ]
    }
   ],
   "source": [
    "# Do not change this cell \n",
    "print('Nearest airport from USC is\\n', 'Your output: ', get_nearest_airport(-118.289159, 34.024548))"
   ]
  },
  {
   "cell_type": "markdown",
   "metadata": {},
   "source": [
    "Q3.[10 points]\n",
    "---\n",
    "All DNA is composed of a series of nucleotides abbreviated as A, C, G, and T, for example: \"ACGAATTCCG\". When studying DNA, it is sometimes useful to identify repeated sequences within the DNA.  \n",
    "\n",
    "Write a function to find all the **10-letter-long sequences** (substrings) that occur more than once in a DNA molecule.  \n",
    "\n",
    "Input: string  \n",
    "Return Output: list of strings  \n",
    "\n",
    "Hint: If you use dictionaries, what will be the key? and value?   \n",
    "\n",
    "Example:  \n",
    "```\n",
    "Input  \n",
    "AAAAACCCCCAAAAACCCCCCAAAAAGGGTTT  \n",
    "Output  \n",
    "[\"AAAAACCCCC\", \"CCCCCAAAAA\"]  \n",
    "```\n",
    "---\n",
    "Grading Rubric: 5 points if the sample input/output are correct. 10 if all correct."
   ]
  },
  {
   "cell_type": "code",
   "execution_count": 76,
   "metadata": {},
   "outputs": [],
   "source": [
    "def dna_sequences(sequence):\n",
    "    d = dict ()\n",
    "    #after_covert = list (sequence.split())\n",
    "    variable = str\n",
    "    result = list()\n",
    "    for i in range(len(sequence)): # loop through the lenght of a seqeunce \n",
    "        variable = sequence[i : i+10] #to take only the first 10 characters from a sequence\n",
    "        d[variable] = d.get(variable,0)+1 # increment each value of the dictionary by 1 for each associated key\n",
    "\n",
    "    for key in d:\n",
    "        if d[key] > 1:  # olny need the values that repeated more than once\n",
    "            result.append(key)\n",
    "    return result \n",
    "\n",
    " \n",
    "        \n",
    "        \n",
    "  \n",
    "\n"
   ]
  },
  {
   "cell_type": "code",
   "execution_count": 77,
   "metadata": {},
   "outputs": [
    {
     "name": "stdout",
     "output_type": "stream",
     "text": [
      "Your output for sequence=AAAAACCCCCAAAAACCCCCCAAAAAGGGTTT is ['AAAAACCCCC', 'CCCCCAAAAA']\n"
     ]
    }
   ],
   "source": [
    "print('Your output for sequence=AAAAACCCCCAAAAACCCCCCAAAAAGGGTTT is', dna_sequences('AAAAACCCCCAAAAACCCCCCAAAAAGGGTTT'))"
   ]
  },
  {
   "cell_type": "markdown",
   "metadata": {},
   "source": [
    "Bonus Question[5 points]\n",
    "---\n",
    "Given a lat, long coordinate find k nearest airports from the location.\n",
    "\n",
    "Return a list of (airport_name, coordinates) tuple with size k.\n",
    "\n",
    "Input: float, float, int  \n",
    "Return Output: list of tuples\n",
    "\n",
    "---\n",
    "Grading Rubric: Binary"
   ]
  },
  {
   "cell_type": "code",
   "execution_count": 78,
   "metadata": {},
   "outputs": [],
   "source": [
    "# Use this cell for your solution\n",
    "\n",
    "def k_nearest_airports(long, lat, k):\n",
    "    x = get_airport_info()    #('Total Rf Heliport', (-74.93360137939453, 40.07080078125))\n",
    "    short_distance = list()\n",
    "    d = dict()\n",
    "    first = 10000\n",
    "    nearest_airports = tuple()\n",
    "    \n",
    "    for i in x.keys():\n",
    "        value = x.get(i, 0)   # to obtain the value from the dictionary\n",
    "        d[i] = (dist((long,lat), value))   # to obtain the distance of two location \n",
    "    sorted_dict = sorted([(val, key) for (key,val) in d.items()])   #to exchange from key to value and vice versa\n",
    "    for i in range (0, k ):\n",
    "        airportname = sorted_dict[i][1]\n",
    "        coordinates = get_airport_info().get(sorted_dict[i][1],0)\n",
    "        short_distance.append((airportname,coordinates))\n",
    "     \n",
    "    return short_distance\n",
    "           \n",
    "\n",
    "    "
   ]
  },
  {
   "cell_type": "code",
   "execution_count": 79,
   "metadata": {},
   "outputs": [
    {
     "name": "stdout",
     "output_type": "stream",
     "text": [
      "[('Maguire-California Hospital Helipad', (-118.266204834, 34.0350112915)), ('Wells Fargo-Cv Heliport', (-118.27200317382812, 34.04169845581055)), ('AT&T Center Heliport', (-118.261704, 34.039611)), ('Chase Plaza Heliport', (-118.25800323486328, 34.037200927734375)), ('International Tower Heliport', (-118.26300048828125, 34.0463981628418))]\n"
     ]
    }
   ],
   "source": [
    "# Do not change this cell \n",
    "print(k_nearest_airports(-118.289159, 34.024548, 5))"
   ]
  },
  {
   "cell_type": "code",
   "execution_count": null,
   "metadata": {},
   "outputs": [],
   "source": []
  }
 ],
 "metadata": {
  "kernelspec": {
   "display_name": "Python 3",
   "language": "python",
   "name": "python3"
  },
  "language_info": {
   "codemirror_mode": {
    "name": "ipython",
    "version": 3
   },
   "file_extension": ".py",
   "mimetype": "text/x-python",
   "name": "python",
   "nbconvert_exporter": "python",
   "pygments_lexer": "ipython3",
   "version": "3.8.8"
  }
 },
 "nbformat": 4,
 "nbformat_minor": 4
}
