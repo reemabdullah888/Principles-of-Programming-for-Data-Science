{
 "cells": [
  {
   "cell_type": "markdown",
   "metadata": {},
   "source": [
    "Lab 4\n",
    "---\n",
    "Hello All,\n",
    "\n",
    "Welcome to the DSCI 510's lab.\n",
    "\n",
    "Guidelines for the Lab:\n",
    "- You will be given the lab assignment in the start of the lab. You're supposed to complete it by 11:59pm on Thursday.  \n",
    "\n",
    "- You've to complete the assignments individually. If you are having trouble completing the assignment do let me know, I will clear your doubts and guide you but I'll not write code for you and no one else should :) !!!  \n",
    "\n",
    "- You have to fill in the code in this notebook and upload it for submission. While doing this, make sure that all supporting files that you download are in the same directory as this notebook.  \n",
    "\n",
    "- You are encouraged to look up resources online like python docs and stackoverflow. But, you are encouraged to look up the topics and not the questions themselves  \n",
    "\n",
    "- Your last submission will be counted towards your grade  "
   ]
  },
  {
   "cell_type": "markdown",
   "metadata": {},
   "source": [
    "Q1.[2 Points]\n",
    "---\n",
    "You are given a txt file named 'Data.txt', download it and keep it in the same location where you have this notebook. \n",
    "\n",
    "For this question, simply open the file and return the count of lines in the file.\n",
    "\n",
    "Input: none  \n",
    "Output: int\n",
    "\n",
    "---\n",
    "Rubric: Binary"
   ]
  },
  {
   "cell_type": "code",
   "execution_count": 33,
   "metadata": {},
   "outputs": [],
   "source": [
    "# Fill this function for your solution\n",
    "\n",
    "def number_of_lines():\n",
    "    first_file = open ('Data.txt')\n",
    "    count = 0\n",
    "    for i in first_file:\n",
    "        \n",
    "        count += 1   #each time it enters the loop, it adds 1 to the count variable until the end of the file.\n",
    "        \n",
    "    \n",
    "    first_file.close()\n",
    "    return count"
   ]
  },
  {
   "cell_type": "code",
   "execution_count": 34,
   "metadata": {},
   "outputs": [
    {
     "name": "stdout",
     "output_type": "stream",
     "text": [
      "4999\n"
     ]
    }
   ],
   "source": [
    "# Do not change this cell \n",
    "print(number_of_lines())"
   ]
  },
  {
   "cell_type": "markdown",
   "metadata": {},
   "source": [
    "Q2.[8 points] \n",
    "---\n",
    "For the file Data.txt, you have 4 floating point numbers in each line in the format.\n",
    "\n",
    "(Min Temperature(in C), Max Temperature(in C), Humidity%, Rainfall(in)) for a particular day.  \n",
    "\n",
    "For this question, you need to implement the logic that if Max temperature - Min temperature is greater than 10 and if humidity is greater than 50%, it is rainy else it is sunny.  \n",
    "\n",
    "You need to return the count of rainy days for this question.  \n",
    "\n",
    "Input: none\n",
    "Output: int\n",
    "\n",
    "---\n",
    "Rubric: Binary"
   ]
  },
  {
   "cell_type": "code",
   "execution_count": 35,
   "metadata": {},
   "outputs": [],
   "source": [
    "# Use this cell for your solution\n",
    "\n",
    "def weather():\n",
    "    first_file = open ('Data.txt')\n",
    "    count_rain = 0\n",
    "    for line in first_file:\n",
    "        line = line.split()   #To make separate columns and split the string.\n",
    "        if (float(line[1])- float(line[0])) > 10 and (float(line[2]) > 50 ): #line[1] represents the maximum of temp. and line [2] represent the rainfall and so on.\n",
    "            \n",
    "            count_rain += 1\n",
    "    \n",
    "    first_file.close()\n",
    "    return count_rain\n",
    "\n",
    "        \n",
    "        \n",
    "        "
   ]
  },
  {
   "cell_type": "code",
   "execution_count": 36,
   "metadata": {},
   "outputs": [
    {
     "name": "stdout",
     "output_type": "stream",
     "text": [
      "3175\n"
     ]
    }
   ],
   "source": [
    "# Do not change this cell \n",
    "print(weather())"
   ]
  },
  {
   "cell_type": "markdown",
   "metadata": {},
   "source": [
    "Q3.[10 Points]\n",
    "---\n",
    "Return the list of distinct words in a given text. You have to ignore any special characters present in the text.   \n",
    "\n",
    "You are given a function named remove_special_characters. You can use it for any of the questions in the lab. This function takes a input string and returns the string without any special characters(this includes the space(' ') character).\n",
    "\n",
    "Note: \n",
    "1. You need to remove characters which are not in the alphabet.\n",
    "2. You need to consider 'How' and 'how' as the same i.e., words are not case-sensitive. Hint: (Convert into common format)  \n",
    "3. Casing of the final answer doesn't matter.\n",
    "4. Order of the words in the returned list doesn't matter.\n",
    "5. You can use set() to remove duplicates\n",
    "\n",
    "Input: str  \n",
    "Output: list of str\n",
    "\n",
    "---\n",
    "For example, \n",
    "1.  \n",
    "Input:  \n",
    "text = 'How are you?'  \n",
    "Return output:  \n",
    "['how', 'are', 'you']  \n",
    "2.  \n",
    "Input:  \n",
    "text = 'Can you can a can as a canner can can a can?'  \n",
    "Return Output:   \n",
    "['can', 'you', 'canner', 'a', 'as']\n",
    "\n",
    "---\n",
    "Rubric:  \n",
    "If special characters are not removed from your output -2  \n",
    "If your output has more values because you didn't consider different cased words as the same -5 <br>\n",
    "If everything is correct 10"
   ]
  },
  {
   "cell_type": "code",
   "execution_count": 37,
   "metadata": {},
   "outputs": [],
   "source": [
    "import re\n",
    "\n",
    "def remove_special_characters(word):\n",
    "    regex = re.compile('[^a-zA-Z]')\n",
    "    return regex.sub('', word)\n"
   ]
  },
  {
   "cell_type": "code",
   "execution_count": 66,
   "metadata": {},
   "outputs": [],
   "source": [
    "# Fill this function for your solution\n",
    "def distinct_words(text):\n",
    "    # Remove pass and enter your code here\n",
    "    \n",
    "\n",
    "    new_list = text.split( )\n",
    "    output = []\n",
    "    for i in new_list:\n",
    "        unique = remove_special_characters(i.lower())\n",
    "        if unique not in output:\n",
    "            \n",
    "            output.append(unique)\n",
    "    \n",
    "\n",
    "    return (output)\n",
    "  \n",
    "        \n",
    "        \n",
    "        \n",
    "        \n",
    "        "
   ]
  },
  {
   "cell_type": "code",
   "execution_count": 67,
   "metadata": {
    "scrolled": false
   },
   "outputs": [
    {
     "name": "stdout",
     "output_type": "stream",
     "text": [
      "Your Output-> ['how', 'are', 'you'] Actual Output-> ['how', 'are', 'you']\n",
      "Your Output-> ['can', 'you', 'a', 'as', 'canner'] Actual Output-> ['can', 'you', 'canner', 'a', 'as']\n"
     ]
    }
   ],
   "source": [
    "# Do not change this cell \n",
    "print('Your Output->', distinct_words('How are you?'), 'Actual Output->', ['how', 'are', 'you'])\n",
    "print('Your Output->', distinct_words('Can you can a can as a canner can can a can?'), 'Actual Output->', ['can', 'you', 'canner', 'a', 'as']\n",
    ")\n"
   ]
  },
  {
   "cell_type": "markdown",
   "metadata": {},
   "source": [
    "Q4.[10 points] \n",
    "---\n",
    "Given two strings you need to return the list of common words from the two strings.  \n",
    "\n",
    "Also, you can and are encouraged to use the distinct_words function created in Q3.  \n",
    "\n",
    "If you're unable to solve Q3, you can solve Q4 independently assuming that a function distinct_words exists.  \n",
    "\n",
    "Input: str, str  \n",
    "Output: list of str\n",
    "\n",
    "\n",
    "---\n",
    "Example: \n",
    "1.  \n",
    "Input:   \n",
    "txt1 = 'how are you?', txt2 = 'are you sure?'  \n",
    "Output:  \n",
    "['are', 'you'] \n",
    "\n",
    "---\n",
    "Rubric: Binary"
   ]
  },
  {
   "cell_type": "code",
   "execution_count": 72,
   "metadata": {},
   "outputs": [],
   "source": [
    "# Use this cell for your solution\n",
    "\n",
    "def common_words(txt1, txt2):\n",
    "    t1 = distinct_words(txt1)\n",
    "    t2 = distinct_words(txt2)\n",
    "    string1 = []\n",
    "\n",
    "    for i in t1:\n",
    "            \n",
    "        if i in t2:\n",
    "            string1.append(i)\n",
    "         \n",
    "    return string1      \n",
    "    # Remove pass and enter your code here\n",
    "  "
   ]
  },
  {
   "cell_type": "code",
   "execution_count": 73,
   "metadata": {},
   "outputs": [
    {
     "name": "stdout",
     "output_type": "stream",
     "text": [
      "Your output-> ['are', 'you'] Actual Output-> ['are', 'you']\n"
     ]
    }
   ],
   "source": [
    "# Do not change this cell \n",
    "print('Your output->', common_words('how are you?', 'are you sure?'), 'Actual Output->', ['are', 'you'])"
   ]
  },
  {
   "cell_type": "markdown",
   "metadata": {},
   "source": [
    "Bonus Question[5 points]\n",
    "---\n",
    "For the logic we implemented in question 2, check if our prediction is correct or wrong.  \n",
    "\n",
    "Precisely, if we predict rainy and rainfall is greater than 0 then it's correct else it's wrong. On the other hand, if we predict sunny and rainfall is 0, then it's correct else it's wrong.  \n",
    "\n",
    "You need to return the correct predictions for this question.  \n",
    "\n",
    "Input: none  \n",
    "Output: int  \n",
    "\n",
    "---\n",
    "Rubric: Binary"
   ]
  },
  {
   "cell_type": "code",
   "execution_count": 87,
   "metadata": {},
   "outputs": [],
   "source": [
    "# Use this cell for your solution\n",
    "\n",
    "def prediction_result():\n",
    "    #how many correct prediction you got\n",
    "    first_file = open ('Data.txt')\n",
    "    count = 0\n",
    "    for line in first_file:\n",
    "        line = line.split()\n",
    "        if (float(line[1])- float(line[0])) > 10 and (float(line[2]) > 50 ):\n",
    "            if float(line[3]) > 0 :\n",
    "                count +=1 \n",
    "        else:\n",
    "\n",
    "            if float(line[3]) == 0 :\n",
    "                count += 1\n",
    "    return count\n",
    "\n",
    "    \n",
    "    \n",
    "    first_file.close()\n",
    "   \n",
    "      \n",
    "        "
   ]
  },
  {
   "cell_type": "code",
   "execution_count": 88,
   "metadata": {},
   "outputs": [
    {
     "name": "stdout",
     "output_type": "stream",
     "text": [
      "1542\n"
     ]
    }
   ],
   "source": [
    "# Do not change this cell \n",
    "print(prediction_result())"
   ]
  },
  {
   "cell_type": "code",
   "execution_count": null,
   "metadata": {},
   "outputs": [],
   "source": []
  }
 ],
 "metadata": {
  "kernelspec": {
   "display_name": "Python 3",
   "language": "python",
   "name": "python3"
  },
  "language_info": {
   "codemirror_mode": {
    "name": "ipython",
    "version": 3
   },
   "file_extension": ".py",
   "mimetype": "text/x-python",
   "name": "python",
   "nbconvert_exporter": "python",
   "pygments_lexer": "ipython3",
   "version": "3.8.8"
  }
 },
 "nbformat": 4,
 "nbformat_minor": 4
}
