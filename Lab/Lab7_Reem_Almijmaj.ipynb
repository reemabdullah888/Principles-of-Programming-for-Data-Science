{
 "cells": [
  {
   "cell_type": "markdown",
   "metadata": {},
   "source": [
    "Lab 7\n",
    "---\n",
    "Hello All,\n",
    "\n",
    "Welcome to the DSCI 510's lab.\n",
    "\n",
    "Guidelines for the Lab:\n",
    "- You will be given the lab assignment in the start of the lab. You are supposed to complete it by the deadline stated on blackboard.\n",
    "\n",
    "- You have to complete the assignments individually. If you are having trouble completing the assignment do let us know, we will clear your doubts and guide you but we will not write code for you and no one else should :) !!!  \n",
    "\n",
    "- You have to fill in the code in this notebook and upload it to back to blackboard/D2L for submission. While doing this make sure that all supporting files, if there are any, that you download from blackboard/D2L are in the same directory as this notebook.  \n",
    "\n",
    "- You are encouraged to look up resources online like python docs and stackoverflow. But, you are encouraged to look up the topics and not the questions themselves.\n",
    "\n",
    "- Your last submission will be counted towards your grade."
   ]
  },
  {
   "cell_type": "markdown",
   "metadata": {},
   "source": [
    "**We, the \"510\" team wish you all the best for your coming midterm.**"
   ]
  },
  {
   "cell_type": "markdown",
   "metadata": {},
   "source": [
    "Q1. [5 points]\n",
    "---\n",
    "Fill the function below that checks whether the given string ```s``` is palindrome or not.  \n",
    "\n",
    "```A string is palindrome if it stays the same when read from backward.```  \n",
    "    \n",
    "- For example, the strings '12321' or 'level' or 'racecar' are palindrome and the strings 'hello', 'weird', '123' are not palindrome.  \n",
    "    \n",
    "Input: String  \n",
    "Return Output: Boolean  \n",
    "\n",
    "---\n",
    "Grading Rubric: Binary"
   ]
  },
  {
   "cell_type": "code",
   "execution_count": 8,
   "metadata": {},
   "outputs": [],
   "source": [
    "def is_palindrome(s):\n",
    "\n",
    "    original_list=[*s] #to unlock the contents of the string and take it element by element to insert it into a list.\n",
    "    temporary = original_list[:]  #to copy the cotenant of the original list to the temporary without making any changes to the original list.\n",
    "    new_list = []\n",
    "    for i in range (len(original_list)):\n",
    "        new_list.append(temporary[-1])\n",
    "        # temporary.reverse())\n",
    "        temporary.pop()\n",
    "        \n",
    "\n",
    "    if (original_list == new_list):\n",
    "        return True\n",
    "    else:\n",
    "        return False\n",
    "        \n",
    "    "
   ]
  },
  {
   "cell_type": "code",
   "execution_count": 9,
   "metadata": {},
   "outputs": [
    {
     "data": {
      "text/plain": [
       "True"
      ]
     },
     "execution_count": 9,
     "metadata": {},
     "output_type": "execute_result"
    }
   ],
   "source": [
    "is_palindrome(\"racecar\")"
   ]
  },
  {
   "cell_type": "markdown",
   "metadata": {},
   "source": [
    "Q2. [15 points]\n",
    "---\n",
    "Given a text string, return the top k words sorted by frequency. If there are multiple options to include, add the words that are lexicographically smaller.  \n",
    "\n",
    "Note:  \n",
    "    - Strings in different letter case are considered different. For example, 'hey' and 'Hey' are different.   \n",
    "    - No need to remove special characters.  \n",
    "\n",
    "Input: string, integer  \n",
    "Return Output: List of strings\n",
    "\n",
    "Example 1:  \n",
    "Input:  \n",
    "text = 'this string would give you this output', k = 1  \n",
    "Output:  \n",
    "['this']  \n",
    "Example 2:  \n",
    "Input:  \n",
    "text = 'that is fun', k = 2  \n",
    "Output:  \n",
    "['fun', 'is']  \n",
    "\n",
    "---\n",
    "Grading Rubric: 5 points if lexicographically smaller constraint is not satisfied. 15 points if everything is correct. "
   ]
  },
  {
   "cell_type": "code",
   "execution_count": 10,
   "metadata": {},
   "outputs": [],
   "source": [
    "def top_k(text, k):\n",
    "    dic = dict()\n",
    "    words = text.split()\n",
    "    for i in words:\n",
    "        dic[i] = dic.get(i,0) + 1    #add the words into the dictionary with their frequency \n",
    "\n",
    "    # Making another dict with key as frequency and value as list of words having the same freq\n",
    "    dic2 = dict()\n",
    "    for key,v in dic.items():\n",
    "        \n",
    "        if v in dic2:\n",
    "            dic2[v].append(key)\n",
    "            dic2[v].sort()\n",
    "        else:\n",
    "            dic2[v] = [key]\n",
    "\n",
    "    # Sort over frequencies\n",
    "    items = list(dic2.items())\n",
    "    items.sort(reverse=True)\n",
    "    output = []\n",
    "    \n",
    "    for item in items:\n",
    "        for word in item[1]:\n",
    "            output.append(word)\n",
    "            if len(output) == k:  #only take the elements thats has the same length of the K.\n",
    "                return output\n",
    "    return output  #if the K has long lenght and the output does not have that enough words, we return the output with what ever element inside it.\n",
    "        \n",
    "   \n",
    "    # Sort the words internally lexicographically\n",
    "#     sorted (dic2.values(), reverse = False)\n",
    "#     print ('the dic2', dic2)\n",
    "#     top_k_list = []\n",
    "#     for i in dic2.values():\n",
    "#         top_k_list.append(i)\n",
    "    \n",
    "\n",
    "#     # Get the words in order and put them in top_k_list\n",
    "#     result = top_k_list[0:x]\n",
    "  \n",
    "# #     for i in top_k_list[0:x]:\n",
    "# #         r.append(i)\n",
    "#     return result \n",
    "\n",
    "    "
   ]
  },
  {
   "cell_type": "code",
   "execution_count": 11,
   "metadata": {},
   "outputs": [
    {
     "data": {
      "text/plain": [
       "['this']"
      ]
     },
     "execution_count": 11,
     "metadata": {},
     "output_type": "execute_result"
    }
   ],
   "source": [
    "top_k(\"this string would give you this output\", 1)"
   ]
  },
  {
   "cell_type": "markdown",
   "metadata": {},
   "source": [
    "Q3. [10 points]\n",
    "---\n",
    "Create a lecture class. Please create an object definition which fits the following the guidelines.  \n",
    "\n",
    "Every lecture object must be instantiated(params to the constructor) with the following String variables:\n",
    "1. Professor Name\n",
    "2. Start Time\n",
    "3. End Time\n",
    "4. Id\n",
    "\n",
    "Hence, lecture class' object could be created like ```my_lecture = lecture('Yigal', '1300', '1500', '1')```  \n",
    "\n",
    "Every lecture object must have the following functions:\n",
    "1. Add Student to the class \n",
    "    * Definition - add_student(student_name) Types - [string] No Return \n",
    "2. Remove Student from the class  \n",
    "    * Definition - remove_student(student_name) Types - [string] No Return \n",
    "3. Add a rating to the class \n",
    "    * Definition - add_rating(rating) Types - [float] No Return \n",
    "4. What is the average rating of the class  \n",
    "    * Definition - avg_rating() (*if nothing in the list just return 0*) Return rating \n",
    "5. Setter function for the boolean variable is_there_hw, which reverses the current boolean value (Default of is_there_hw is False)\n",
    "    * So if is_there_hw was False, and you call this function it sets it to True and vice versa\n",
    "    * Definition - set_hw() No Return \n",
    "6. Getter function for is_there_hw\n",
    "    * simply returns the state of the is_there_hw variable\n",
    "    * Definition - get_hw() Return boolean  \n",
    "7. Get students list\n",
    "    * simply returns the list of students in the class\n",
    "    * Definition - get_students() Return list  \n",
    "\n",
    "\n",
    "So there are 8 functions you have to create, the 7 above and the one `__init__` function.   \n",
    "\n",
    "---\n",
    "Grading Rubric: Each correct function will give you 1 point, except for avg_rating, which will give you 3 points if correct."
   ]
  },
  {
   "cell_type": "code",
   "execution_count": 44,
   "metadata": {},
   "outputs": [],
   "source": [
    "class lecture:\n",
    "    def __init__(self, Professor_Name, Start_Time, End_Time , Id):\n",
    "        self.x = []\n",
    "        self.lrating = []\n",
    "        self.count = 0\n",
    "        self.sum_rating = 0\n",
    "        self.Professor_Name = Professor_Name\n",
    "        self.Start_Time = Start_Time\n",
    "        self.End_Time = End_Time\n",
    "        self.Id = Id\n",
    "        self.is_there_hw = False\n",
    "        \n",
    "\n",
    "    def add_student(self, student_name):\n",
    "        self.x.append(student_name)\n",
    "        \n",
    "    def remove_student(self, student_name):\n",
    "        self.x.remove(student_name)\n",
    "        \n",
    "    def add_rating(self, rating):\n",
    "        self.lrating.append(float(rating))\n",
    "        self.sum_rating += rating  #to keep track of the rating values\n",
    "        self.count += 1  #to count each time a rate enter \n",
    "  \n",
    "        \n",
    "    def avg_rating(self):\n",
    "        if self.count > 0:\n",
    "            return self.sum_rating/self.count\n",
    "        else:\n",
    "            return 0\n",
    "\n",
    "    def set_hw(self):\n",
    "        if self.is_there_hw == True:\n",
    "            self.is_there_hw = False\n",
    "        else:\n",
    "            self.is_there_hw = True\n",
    "\n",
    "    def get_hw(self):\n",
    "        return self.is_there_hw\n",
    "    def get_students(self):\n",
    "        return self.x\n"
   ]
  },
  {
   "cell_type": "markdown",
   "metadata": {},
   "source": [
    "Fun Easy Bonus Question[5 points]\n",
    "---\n",
    "You are playing the following Game with your friend:\n",
    "\n",
    "- Initially, there is a heap of stones on the table.  \n",
    "- You and your friend will alternate taking turns, and you go first.  \n",
    "- On each turn, the person whose turn it is will remove 1 to 3 stones from the heap.  \n",
    "- The one who removes the last stone is the winner.  \n",
    "- Given n, the number of stones in the heap, return True if you can win the game assuming both you and your friend play optimally, otherwise return False.  \n",
    "\n",
    "Example:  \n",
    "Input: n = 4  \n",
    "Return Output: False  \n",
    "Explanation: These are the possible outcomes:  \n",
    "1. You remove 1 stone. Your friend removes 3 stones, including the last stone. Your friend wins.  \n",
    "2. You remove 2 stones. Your friend removes 2 stones, including the last stone. Your friend wins.  \n",
    "3. You remove 3 stones. Your friend removes the last stone. Your friend wins.  \n",
    "\n",
    "In all outcomes, your friend wins.  \n",
    "\n",
    "---\n",
    "Grading Rubric: Binary"
   ]
  },
  {
   "cell_type": "code",
   "execution_count": 12,
   "metadata": {},
   "outputs": [],
   "source": [
    "def is_winnable(n):\n",
    "       return (n%4 !=0 ) #if there are 4 stones left, the first player must loos.\n",
    "        "
   ]
  },
  {
   "cell_type": "code",
   "execution_count": 13,
   "metadata": {},
   "outputs": [
    {
     "data": {
      "text/plain": [
       "False"
      ]
     },
     "execution_count": 13,
     "metadata": {},
     "output_type": "execute_result"
    }
   ],
   "source": [
    "\n",
    "is_winnable(4)\n",
    "    "
   ]
  },
  {
   "cell_type": "code",
   "execution_count": null,
   "metadata": {},
   "outputs": [],
   "source": []
  }
 ],
 "metadata": {
  "kernelspec": {
   "display_name": "Python 3",
   "language": "python",
   "name": "python3"
  },
  "language_info": {
   "codemirror_mode": {
    "name": "ipython",
    "version": 3
   },
   "file_extension": ".py",
   "mimetype": "text/x-python",
   "name": "python",
   "nbconvert_exporter": "python",
   "pygments_lexer": "ipython3",
   "version": "3.8.8"
  }
 },
 "nbformat": 4,
 "nbformat_minor": 4
}
