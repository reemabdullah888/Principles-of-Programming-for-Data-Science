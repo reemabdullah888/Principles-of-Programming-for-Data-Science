{
 "cells": [
  {
   "cell_type": "markdown",
   "metadata": {},
   "source": [
    "Lab 10\n",
    "---\n",
    "Hello All,\n",
    "\n",
    "Welcome to the DSCI 510's lab.\n",
    "\n",
    "Guidelines for the Lab:\n",
    "- You will be given the lab assignment in the start of the lab. You're supposed to complete it by the deadline stated on blackboard.  \n",
    "\n",
    "- You've to complete the assignments individually. If you are having trouble completing the assignment do let me know, I will clear your doubts and guide you but I'll not write code for you and no one else should :) !!!  \n",
    "\n",
    "- You have to fill in the code in this notebook and upload it to back to blackboard for submission. While doing this, make sure that all supporting files that you download from blackboard are in the same directory as this notebook.  \n",
    "\n",
    "- You are encouraged to look up resources online like python docs and stackoverflow. But, you are encouraged to look up the topics and not the questions themselves  \n",
    "\n",
    "- Your last submission will be counted towards your grade  "
   ]
  },
  {
   "cell_type": "markdown",
   "metadata": {},
   "source": [
    "Before attempting the below question, I recommend you to skim this xml documentation: https://docs.python.org/3/library/xml.etree.elementtree.html"
   ]
  },
  {
   "cell_type": "markdown",
   "metadata": {},
   "source": [
    "Q1.[30 points] \n",
    "---\n",
    "You are given a xml file with cities. See the attached file for its format. Takeaway from the format is that there is a data root tag which has child city tags in it. Each city tag may have multiple attributes and multiple tags in it. These tags and attributes are not mandated to be there in each city tag.  \n",
    "\n",
    "For this question, you are given a xml_file path and a `filters` dictionary as arguments of a function `filter_cities`. The key of the `filters` dictionary represents the attribute name of the city tag or the child tag name of the `city` tag. The value of that key represents the value of the corresponding attribute or text of the corresponding tag name.  \n",
    "\n",
    "This function should return the list of name of the cities that have matching values for all the attributes and tags given in the `filters`.  \n",
    "\n",
    "Assumptions: \n",
    "- All the attribute and tag names are combinedly unique.\n",
    "- All cities will have `name` tag in it. \n",
    "\n",
    "Note: While extracting the text from a tag, use `strip` to remove empty spaces and new lines.\n",
    "\n",
    "---\n",
    "Grading Rubric:  \n",
    "Using the sample xml file only.  \n",
    "- +10 - If function outputs correctly for `filters` that has only attribute name keys in it.  \n",
    "- +10 - If function outputs correctly for `filters` that has only tag name keys in it.  \n",
    "\n",
    "Using any kind of xml file with the above mentioned structure.  \n",
    "- +10 - If function outputs correctly for `filters` for all cases.  "
   ]
  },
  {
   "cell_type": "code",
   "execution_count": 43,
   "metadata": {},
   "outputs": [],
   "source": [
    "import xml.etree.ElementTree as ET\n",
    "# Your code goes here\n",
    "\n",
    "tree = ET.parse('city.xml')\n",
    "root = tree.getroot()    \n",
    "\n",
    "def filter_cities(xml_file, filters):\n",
    "\n",
    "    resutl = list()\n",
    "\n",
    "    d = dict()\n",
    "    for city in root: #to loop throguh all city tag\n",
    "        d[city] = [] \n",
    "        for key, value in filters.items(): #to loop thgouth the key, values of the dictionary \n",
    "            if key in city.attrib.keys(): #to ensure that in the city tag there is an attribute has the same name as the dictorary key. \n",
    "                if filters[key] == city.attrib[key]: \n",
    "                    d[city].append(key)\n",
    "            else:\n",
    "                if city.find(key) != None and city.find(key).text.strip() == filters[key]:\n",
    "                    d[city].append(key)\n",
    "    \n",
    "    for citty,l in d.items():\n",
    "        if len(l) == len(filters.keys()):\n",
    "            resutl.append(citty.find('name').text.strip()) # only appending the attribute name(city name)\n",
    "    return resutl\n"
   ]
  },
  {
   "cell_type": "code",
   "execution_count": 44,
   "metadata": {
    "scrolled": false
   },
   "outputs": [
    {
     "name": "stdout",
     "output_type": "stream",
     "text": [
      "['Los Angeles', 'New York']\n"
     ]
    }
   ],
   "source": [
    "filters = {\n",
    "    \"class\": \"A\",\n",
    "    \"country\": \"USA\"\n",
    "}\n",
    "print(filter_cities(\"city.xml\", filters))\n",
    "# Expected output: ['Los Angeles', 'New York']"
   ]
  },
  {
   "cell_type": "markdown",
   "metadata": {},
   "source": [
    "Bonus Question.[5 points] \n",
    "---\n",
    "To complete this question, you need the access key from the opencage website. To obtain that the procedure is:  \n",
    "1. open https://opencagedata.com/api\n",
    "2. Click on sign up for your free api key.\n",
    "3. Create a account and use the access key that you get from there for this question.\n",
    "\n",
    "You are given a xml_file and `filters` dictionary(Same as the above question(Also in the same format)). You have to get the latitude and longitude for the cities that you returned in the above question. Use the opencagedata api to do geocoding. Give the city name as the input and you will get a json response with lat and long information in it.   \n",
    "\n",
    "Input: str, dict  \n",
    "Return Output: List of tuples(each element in format (lat, long))  \n",
    "\n",
    "Note: Make use of the above question's function. If you cannot complete the above question, you can assume that it exists. \n",
    "\n",
    "---\n",
    "Grading Rubric: Binary"
   ]
  },
  {
   "cell_type": "code",
   "execution_count": 45,
   "metadata": {},
   "outputs": [
    {
     "data": {
      "text/plain": [
       "[(\"34° 3' 13.28724'' N\", \"118° 14' 33.95760'' W\"),\n",
       " (\"40° 42' 45.82116'' N\", \"74° 0' 21.65472'' W\")]"
      ]
     },
     "execution_count": 45,
     "metadata": {},
     "output_type": "execute_result"
    }
   ],
   "source": [
    "import re\n",
    "import requests\n",
    "\n",
    "def filter_cities_with_latlong(xml_file, filters):\n",
    "    address=[]\n",
    "    x = filter_cities(xml_file, filters) #recall the privious function \n",
    "    for city in x:\n",
    "        resp=requests.get(\"https://api.opencagedata.com/geocode/v1/json?q=\"+city+\"&key=\"+\"4ce2177b4bcd407983c2ccb5337e8a41\")\n",
    "        resp_json=resp.json() #parse the respons to json \n",
    "        coordinate=(resp_json['results'][0]['annotations']['DMS']['lat'],resp_json['results'][0]['annotations']['DMS']['lng'])\n",
    "        address.append(coordinate)\n",
    "    return address\n",
    "filter_cities_with_latlong(\"city.xml\", filters)"
   ]
  },
  {
   "cell_type": "code",
   "execution_count": null,
   "metadata": {},
   "outputs": [],
   "source": []
  }
 ],
 "metadata": {
  "kernelspec": {
   "display_name": "Python 3",
   "language": "python",
   "name": "python3"
  },
  "language_info": {
   "codemirror_mode": {
    "name": "ipython",
    "version": 3
   },
   "file_extension": ".py",
   "mimetype": "text/x-python",
   "name": "python",
   "nbconvert_exporter": "python",
   "pygments_lexer": "ipython3",
   "version": "3.8.8"
  }
 },
 "nbformat": 4,
 "nbformat_minor": 4
}
