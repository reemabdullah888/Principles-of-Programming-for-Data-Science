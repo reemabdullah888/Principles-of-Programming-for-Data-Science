{
 "cells": [
  {
   "cell_type": "markdown",
   "metadata": {},
   "source": [
    "Lab 3\n",
    "---\n",
    "Hello All,\n",
    "\n",
    "Welcome to the DSCI 510's lab.\n",
    "\n",
    "Guidelines for the Lab:\n",
    "- You will be given the lab assignment in the start of the lab. You're supposed to complete it by the deadline, Thursday 11:59pm PDT.  \n",
    "\n",
    "- You've to complete the assignments individually. If you are having trouble completing the assignment do let me know, I will clear your doubts and guide you but I'll not write code for you and no one else should :) !!!  \n",
    "\n",
    "- You have to fill in the code in this notebook and upload it for submission. While doing this, make sure that all supporting files that you download from D2L or blackboard are in the same directory as this notebook.  \n",
    "\n",
    "- You are encouraged to look up resources online like python docs and stackoverflow. But, you are encouraged to look up the topics and not the questions themselves  \n",
    "\n",
    "- Your last submission before the deadline will be counted towards your grade  "
   ]
  },
  {
   "cell_type": "markdown",
   "metadata": {},
   "source": [
    "Q1.[10 points]\n",
    "---\n",
    "Given a password(string), return the score of the password as per the formula below and classify into categories as described below.\n",
    "\n",
    "$l = number\\ of\\ lowercase\\ characters$  \n",
    "$u = number\\ of\\ uppercase\\ characters$  \n",
    "$d = number\\ of\\ digits(0-9)$  \n",
    "$s = number\\ of\\ special\\ characters(any\\ character\\ not\\ in\\ l,u,d)$  \n",
    "$unique = number\\ of\\ unique\\ characters(characters\\ that\\ appear\\ atleast\\ once)$  \n",
    "$entropy = log_2(unique^{l+u+d+s})$\n",
    "\n",
    "$Formula:$  \n",
    "$score = (l*0.2+u*0.4+d*0.3+s*0.5)*entropy$  \n",
    "\n",
    "Classification -> Weak: $score<=50$, Medium: $50<score<=100$, Strong: $score>100$  \n",
    "\n",
    "**Print the Classification category and return the score calculated from the above formula.**  \n",
    "\n",
    "Input: string  \n",
    "Output: Return->float, print->string\n",
    "\n",
    "Note1: Importing math is fine for this question.  \n",
    "Note2: You are allowed to use the **unique_characters** function given to you.\n",
    "\n",
    "Example:  \n",
    "1. \n",
    "```\n",
    "Input  \n",
    "password  \n",
    "Output  \n",
    "Print: Weak password  \n",
    "Return: 35.934143002337336  \n",
    "```\n",
    "2. \n",
    "```\n",
    "Input  \n",
    "badpassword123!  \n",
    "Output  \n",
    "Print: Strong password  \n",
    "Return: 193.58797503894243  \n",
    "```\n",
    "\n",
    "---\n",
    "Grading Rubric: 5 points if either of classification or score is incorrect. 10 points if both are correct. "
   ]
  },
  {
   "cell_type": "code",
   "execution_count": 1,
   "metadata": {},
   "outputs": [],
   "source": [
    "# returns number of unique characters in a given string\n",
    "def unique_characters(string):\n",
    "    unique = 0\n",
    "    for i in range(128):\n",
    "        if chr(i) in string:\n",
    "            unique += 1\n",
    "    return unique"
   ]
  },
  {
   "cell_type": "code",
   "execution_count": 2,
   "metadata": {},
   "outputs": [],
   "source": [
    "import math\n",
    "# Use this cell for your solution\n",
    "def password_strength(password):\n",
    "    n_lower = 0\n",
    "    n_upper = 0\n",
    "    n_digit = 0\n",
    "    n_special = 0\n",
    "    for i in range (len(password)):  ##setting the range to the length of the password so it does not go beyond it.\n",
    "        if (password [i] >= 'a' and password [i] <='z'): #ensuring that we choose letters from the range of lower case only, and so on.\n",
    "            n_lower += 1\n",
    "        elif ( password [i] >= 'A' and password [i] <= 'Z'):\n",
    "            n_upper += 1\n",
    "        elif (password[i].isnumeric()):\n",
    "            n_digit += 1\n",
    "        else:\n",
    "             n_special += 1\n",
    "      \n",
    "\n",
    "    uniquel = unique_characters (password)  \n",
    "    𝑒𝑛𝑡𝑟𝑜𝑝𝑦 = math.log2 (𝑢𝑛𝑖𝑞𝑢𝑒𝑙 + n_upper + n_digit + n_special) \n",
    "    𝑠𝑐𝑜𝑟𝑒 = (n_lower * 0.2 + n_upper * 0.4 + n_digit * 0.3 + n_special * 0.5) * 𝑒𝑛𝑡𝑟𝑜𝑝𝑦  \n",
    "    \n",
    "    if score <= 50:     #cheaking where the score stand and from there we can decide which type of password it deserves.\n",
    "        print ('Weak password')\n",
    "        return score\n",
    "    elif score > 50 and score <= 100:\n",
    "        print ('Medium password')\n",
    "        return score\n",
    "    elif score > 100:\n",
    "        print ('Strong password')\n",
    "        return score\n",
    "        \n",
    "    \n",
    "    "
   ]
  },
  {
   "cell_type": "code",
   "execution_count": 65,
   "metadata": {},
   "outputs": [
    {
     "name": "stdout",
     "output_type": "stream",
     "text": [
      "Weak password\n"
     ]
    },
    {
     "data": {
      "text/plain": [
       "14.4"
      ]
     },
     "execution_count": 65,
     "metadata": {},
     "output_type": "execute_result"
    }
   ],
   "source": [
    "password_strength(\"badpassword123!\")"
   ]
  },
  {
   "cell_type": "markdown",
   "metadata": {},
   "source": [
    "Q2.[10 points]\n",
    "---\n",
    "ROT13 (\"rotate by 13 places\", sometimes hyphenated ROT-13) is a simple encryption algorithm developed in ancient rome that replaces a letter with the 13th letter after it, in the alphabet. The algorithm provides virtually no cryptographic security and is often cited as a canonical example of weak encryption.  \n",
    "\n",
    "![title](https://upload.wikimedia.org/wikipedia/commons/3/33/ROT13_table_with_example.svg)\n",
    "\n",
    "Extend the original ROT13 algorithm, and write code for such a rotation whose rotation places is passed in the argument. Essentially, you have to write a ROTx whose x is passed as a argument. Each letter would be replaced by a letter some fixed number of positions down the alphabet.  \n",
    "\n",
    "Essentially, like this if rotation_places=3, \n",
    "\n",
    "![title](https://www.secplicity.org/wp-content/uploads/2017/05/Caesar_substition_cipher-750x393.png)  \n",
    "\n",
    "Note: You have to **preserve the letter case** for each character in the alphabet. However, for **\"characters not in the alphabet\"**, you can simply **shift them down the ascii sequence** and rotate over the end of ascii characters if needed(which is considered to be 128(0-127) for this lab).  \n",
    "\n",
    "Input: string, int  \n",
    "Return Output: string\n",
    "\n",
    "Example:  \n",
    "1. \n",
    "```\n",
    "Input  \n",
    "msg='helLo', rotation_places=13  \n",
    "Output  \n",
    "uryYb\n",
    "```\n",
    "2. \n",
    "```\n",
    "Input  \n",
    "msg='xyz ', rotation_places=4  \n",
    "Output  \n",
    "bcd$\n",
    "```\n",
    "3. \n",
    "```\n",
    "Input  \n",
    "msg='wow!!!', rotation_places=12  \n",
    "Output  \n",
    "iai---\n",
    "```\n",
    "\n",
    "---\n",
    "Grading Rubric:  \n",
    "5 points if code returns correct answer but, letter case is not same or rotation over end of alphabet is not handled.  \n",
    "8 points if 5 points condition is satisfied but, special character rotation fails in corner cases :).  \n",
    "10 points if all is correct.  "
   ]
  },
  {
   "cell_type": "code",
   "execution_count": 3,
   "metadata": {},
   "outputs": [],
   "source": [
    "def rot(msg, rotation_places):\n",
    "\n",
    "    new_msg = \"\"\n",
    "    for i in msg:\n",
    "        \n",
    "        if i.islower():\n",
    "            \n",
    "            index = ord(i) - ord('a') #transfer the character into its numeric value \n",
    "            new_index = (index+rotation_places)%26 #ensure it does not go beyond the alphabet range\n",
    "            new_char = chr(ord('a') + new_index) # transfer backs the numeric value into its equivalent character.\n",
    "            new_msg = new_msg + new_char \n",
    "    \n",
    "        elif i.isupper():\n",
    "            index = ord(i) - ord('A')\n",
    "            new_index = (index+rotation_places)%26\n",
    "            new_char = chr(ord('A') + new_index)\n",
    "            new_msg = new_msg +new_char\n",
    "   \n",
    "        else:\n",
    "             index = ord (i)\n",
    "             new_index = (index+rotation_places)% 128\n",
    "             new_char = chr(new_index)\n",
    "             new_msg = new_msg + new_char\n",
    "            \n",
    "    return new_msg\n",
    "        \n",
    "    \n",
    "        "
   ]
  },
  {
   "cell_type": "code",
   "execution_count": 4,
   "metadata": {},
   "outputs": [
    {
     "name": "stdout",
     "output_type": "stream",
     "text": [
      "Your output for msg=hello and rotation places=13 is uryyb\n",
      "Your output for msg=hello and rotation places=13 is iai---\n"
     ]
    }
   ],
   "source": [
    "print('Your output for msg=hello and rotation places=13 is', rot('hello', 13))\n",
    "print('Your output for msg=hello and rotation places=13 is', rot('wow!!!', 12))\n"
   ]
  },
  {
   "cell_type": "markdown",
   "metadata": {},
   "source": [
    "Q3.[10 points]\n",
    "---\n",
    "You are given a `word` string and a `character` string. While parsing from the start to the end in `word`, if you encounter `character` in the string, then you need to swap the string before the `character` in `word` with the string after the `character`. After doing this, you need to keep doing this \"parse and swap\" operation from the index+1 you swapped. You need to return the string after these operations.  \n",
    "\n",
    "For example, if word='abcd' and character='b', then output is 'abcd'. (abcd->cdba->abcd)\n",
    "\n",
    "---\n",
    "Example 1:  \n",
    "Input:  \n",
    "word='abc' character='b'  \n",
    "Output:  \n",
    "'cba'  \n",
    "Example 2:  \n",
    "Input:  \n",
    "word='philippines' character='i'  \n",
    "Output:  \n",
    "'philippines'\n",
    "\n",
    "---\n",
    "Grading Rubric: 5 points if the given test cases(namely example 1 and 2) pass. 10 points if it works for hidden test cases too. "
   ]
  },
  {
   "cell_type": "code",
   "execution_count": 10,
   "metadata": {},
   "outputs": [],
   "source": [
    "# Use this cell for your solution\n",
    "\n",
    "def reverse_all(word, character):\n",
    "    for i in range(len(word)):\n",
    "        if character == word[i] :\n",
    "            word = word[i+1:] + word[i]+ word[:i] #string slicing to swap the two sections of the string.\n",
    "          \n",
    "         \n",
    "            \n",
    "    return word\n",
    "            \n",
    "# i\n",
    "# philippines"
   ]
  },
  {
   "cell_type": "code",
   "execution_count": 11,
   "metadata": {},
   "outputs": [
    {
     "name": "stdout",
     "output_type": "stream",
     "text": [
      "Your output -> cba Actual output -> cba\n",
      "Your output -> philippines Actual output -> philippines\n"
     ]
    }
   ],
   "source": [
    "# Do not change this cell \n",
    "print('Your output ->', reverse_all('abc', 'b'), 'Actual output -> cba')\n",
    "print('Your output ->', reverse_all('philippines', 'i'), 'Actual output -> philippines')\n",
    "\n",
    "# lippinesiph\n",
    "# nesiphilipp\n",
    "# lippinesiph\n",
    "# philippines\n"
   ]
  },
  {
   "cell_type": "markdown",
   "metadata": {},
   "source": [
    "Finished Early? \n",
    "\n",
    "Bonus Question[5 points] \n",
    "---\n",
    "Person A comes to class every nth day and person B comes to class every mth day. After how many days will they meet for first time after the classes have started?  \n",
    "\n",
    "Input: integer, integer  \n",
    "Output: return->integer  \n",
    "\n",
    "Yes, there is an obvious implementation to this. Can you make it **faster**?  \n",
    "\n",
    "Example:  \n",
    "```\n",
    "Input  \n",
    "n=2, m=3  \n",
    "Output  \n",
    "6\n",
    "```\n",
    "\n",
    "---\n",
    "Grading Rubric: Binary"
   ]
  },
  {
   "cell_type": "code",
   "execution_count": 8,
   "metadata": {},
   "outputs": [],
   "source": [
    "def every_n_m_day(n, m):\n",
    "  \n",
    "    result = 0\n",
    "    if n > m:\n",
    "        result = n\n",
    "    else:\n",
    "        result = m\n",
    "    while (True):\n",
    "        if (result % n == 0 ) and (result % m == 0):  #do a loop until the result become multiple of both numbers n and m\n",
    "            print (result)\n",
    "            break\n",
    "        result +=1 "
   ]
  },
  {
   "cell_type": "code",
   "execution_count": 9,
   "metadata": {},
   "outputs": [
    {
     "name": "stdout",
     "output_type": "stream",
     "text": [
      "6\n"
     ]
    }
   ],
   "source": [
    "every_n_m_day(2,3)"
   ]
  },
  {
   "cell_type": "code",
   "execution_count": null,
   "metadata": {},
   "outputs": [],
   "source": []
  }
 ],
 "metadata": {
  "kernelspec": {
   "display_name": "Python 3",
   "language": "python",
   "name": "python3"
  },
  "language_info": {
   "codemirror_mode": {
    "name": "ipython",
    "version": 3
   },
   "file_extension": ".py",
   "mimetype": "text/x-python",
   "name": "python",
   "nbconvert_exporter": "python",
   "pygments_lexer": "ipython3",
   "version": "3.8.8"
  }
 },
 "nbformat": 4,
 "nbformat_minor": 4
}
